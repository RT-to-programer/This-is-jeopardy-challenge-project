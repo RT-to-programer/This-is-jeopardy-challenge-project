{
 "cells": [
  {
   "cell_type": "code",
   "execution_count": 53,
   "metadata": {},
   "outputs": [
    {
     "name": "stderr",
     "output_type": "stream",
     "text": [
      "/opt/anaconda3/lib/python3.7/site-packages/ipykernel_launcher.py:2: FutureWarning: Passing a negative integer is deprecated in version 1.0 and will not be supported in future version. Instead, use None to not limit the column width.\n",
      "  \n"
     ]
    }
   ],
   "source": [
    "import pandas as pd\n",
    "pd.set_option('display.max_colwidth', -1)\n",
    "\n",
    "data = pd.read_csv('jeopardy.csv')\n",
    "data.columns= data.columns.str.lower()\n",
    "data.columns= data.columns.str.strip()\n",
    "data.rename(columns={'show number': 'show_number', 'air date': 'air_date'}, inplace= True)\n",
    "\n",
    "#Sample solution\n",
    "def filter_data(data, words):\n",
    "  # Lowercases all words in the list of words as well as the questions. Returns true is all of the words in the list appear in the question.\n",
    "  filter = lambda x: all(word.lower() in x.lower() for word in words)\n",
    "  # Applies the labmda function to the Question column and returns the rows where the function returned True\n",
    "  return data.loc[data[\"question\"].apply(filter)]\n",
    "\n",
    "answer = filter_data(data, ['England', 'King'])\n",
    "\n",
    "#Write a filter function \n",
    "def my_filter(data, listofwords):\n",
    "    result = data\n",
    "    for word in listofwords:\n",
    "        result = result[result.question.str.contains(word, case= False)]\n",
    "\n",
    "\n",
    "    return result.reset_index()\n",
    "\n",
    "#Check for differences between filter_data and my_filter\n",
    "differece = pd.concat([answer, re_filter]).drop_duplicates(keep= False)\n",
    "\n",
    "#mean calculation function\n",
    "def mean_cal(df):\n",
    "    result = df.value.str.strip('$').str.replace(',','').apply(lambda x: float(x) if x != \"None\" else 0)\n",
    "\n",
    "    return result.mean()\n",
    "\n",
    "#find the count of unique answer\n",
    "def unique_count(df_column):\n",
    "    return df_column.nunique()\n",
    "\n",
    "#How many questions from the 90s use the word \"Computer\" compared to questions from the 2000s? \n",
    "df_computer = my_filter(data, ['computer'])\n",
    "df_computer_90s = df_computer[df_computer.air_date.apply(lambda x: x[0:3] == '199')]\n",
    "df_computer_20s = df_computer[df_computer.air_date.apply(lambda x: x[0:2] == '20')]\n",
    "num_of_computer_use = abs(len(df_computer_90s) - len(df_computer_20s))\n",
    "\n",
    "#\"Literature\" in Single Jeopardy or Double Jeopardy? Ans: Double Jeopardy\n",
    "literature = data[data.category.apply(lambda x: 'literature' in x.lower())].reset_index()\n",
    "literature_pivot = literature.pivot(index= 'index', columns= 'round')['air_date']\n"
   ]
  },
  {
   "cell_type": "code",
   "execution_count": null,
   "metadata": {},
   "outputs": [],
   "source": []
  },
  {
   "cell_type": "code",
   "execution_count": null,
   "metadata": {},
   "outputs": [],
   "source": []
  },
  {
   "cell_type": "code",
   "execution_count": null,
   "metadata": {},
   "outputs": [],
   "source": []
  }
 ],
 "metadata": {
  "interpreter": {
   "hash": "40d3a090f54c6569ab1632332b64b2c03c39dcf918b08424e98f38b5ae0af88f"
  },
  "kernelspec": {
   "display_name": "Python 3.7.10 64-bit ('base': conda)",
   "name": "python3"
  },
  "language_info": {
   "codemirror_mode": {
    "name": "ipython",
    "version": 3
   },
   "file_extension": ".py",
   "mimetype": "text/x-python",
   "name": "python",
   "nbconvert_exporter": "python",
   "pygments_lexer": "ipython3",
   "version": "3.7.10"
  },
  "orig_nbformat": 4
 },
 "nbformat": 4,
 "nbformat_minor": 2
}
